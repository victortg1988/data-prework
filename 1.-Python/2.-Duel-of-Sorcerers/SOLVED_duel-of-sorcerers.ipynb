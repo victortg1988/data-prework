{
 "cells": [
  {
   "cell_type": "markdown",
   "metadata": {},
   "source": [
    "<img src=\"https://bit.ly/2VnXWr2\" width=\"100\" align=\"left\">"
   ]
  },
  {
   "cell_type": "markdown",
   "metadata": {},
   "source": [
    "# Duel of Sorcerers\n",
    "You are witnessing an epic battle between two powerful sorcerers: Gandalf and Saruman. Each sorcerer has 10 spells of variable power in their mind and they are going to throw them one after the other. The winner of the duel will be the one who wins more of those clashes between spells. Spells are represented as a list of 10 integers whose value equals the power of the spell.\n",
    "```\n",
    "gandalf = [10, 11, 13, 30, 22, 11, 10, 33, 22, 22]\n",
    "saruman = [23, 66, 12, 43, 12, 10, 44, 23, 12, 17]\n",
    "```\n",
    "For example:\n",
    "- The first clash is won by Saruman: 10 against 23.\n",
    "- The second clash is won by Saruman: 11 against 66.\n",
    "- ...\n",
    "\n",
    "You will create two variables, one for each sorcerer, where the sum of clashes won will be stored. Depending on which variable is greater at the end of the duel, you will show one of the following three results on the screen:\n",
    "* Gandalf wins\n",
    "* Saruman wins\n",
    "* Tie\n",
    "\n",
    "<img src=\"images/content_lightning_bolt_big.jpg\" width=\"400\">"
   ]
  },
  {
   "cell_type": "markdown",
   "metadata": {},
   "source": [
    "## Tools\n",
    "You don't necessarily need to use all the tools. Maybe you opt to use some of them or completely different ones, they are given to help you shape the exercise. Programming exercises can be solved in many different ways.\n",
    "\n",
    "1. Data structures: **lists, dictionaries**\n",
    "2. Loop: **for loop**\n",
    "3. Conditional statements: **if-elif-else**\n",
    "4. Functions: **range(), len(), print()**\n",
    "\n",
    "## Tasks\n",
    "\n",
    "#### 1. Create two variables called `gandalf` and `saruman` and assign them the spell power lists. Create a variable called `spells` to store the number of spells that the sorcerers cast. "
   ]
  },
  {
   "cell_type": "code",
   "execution_count": 1,
   "metadata": {},
   "outputs": [],
   "source": [
    "gandalf = [10, 11, 13, 30, 22, 11, 10, 33, 22, 22]\n",
    "saruman = [23, 66, 12, 43, 12, 10, 44, 23, 12, 17]\n",
    "spells = 10"
   ]
  },
  {
   "cell_type": "markdown",
   "metadata": {},
   "source": [
    "#### 2. Create two variables called `gandalf_wins` and `saruman_wins`. Set both of them to 0. \n",
    "You will use these variables to count the number of clashes each sorcerer wins. "
   ]
  },
  {
   "cell_type": "code",
   "execution_count": 2,
   "metadata": {},
   "outputs": [],
   "source": [
    "gandalf_wins = 0\n",
    "saruman_wins = 0"
   ]
  },
  {
   "cell_type": "markdown",
   "metadata": {},
   "source": [
    "#### 3. Using the lists of spells of both sorcerers, update variables `gandalf_wins` and `saruman_wins` to count the number of times each sorcerer wins a clash. "
   ]
  },
  {
   "cell_type": "code",
   "execution_count": 3,
   "metadata": {},
   "outputs": [],
   "source": [
    "for spells in zip(saruman, gandalf):\n",
    "    gandalf_spell_power = spells[0]\n",
    "    saruman_spell_power = spells[1]\n",
    "    \n",
    "    if gandalf_spell_power>saruman_spell_power:\n",
    "        gandalf_wins += 1\n",
    "    elif gandalf_spell_power<saruman_spell_power:\n",
    "        saruman_wins += 1"
   ]
  },
  {
   "cell_type": "markdown",
   "metadata": {},
   "source": [
    "#### 4. Who won the battle?\n",
    "Print `Gandalf wins`, `Saruman wins` or `Tie` depending on the result. "
   ]
  },
  {
   "cell_type": "code",
   "execution_count": 4,
   "metadata": {},
   "outputs": [
    {
     "name": "stdout",
     "output_type": "stream",
     "text": [
      "Total gandalf wins: 4\n",
      "Total saruman wins: 6\n"
     ]
    }
   ],
   "source": [
    "print (\"Total gandalf wins:\", gandalf_wins)\n",
    "print (\"Total saruman wins:\", saruman_wins)"
   ]
  },
  {
   "cell_type": "markdown",
   "metadata": {},
   "source": [
    "## Bonus\n",
    "\n",
    "In this bonus challenge, you'll need to check the winner of the battle but this time, a sorcerer wins if he succeeds in winning 3 spell clashes in a row.\n",
    "\n",
    "Also, the spells now have a name and there is a dictionary that associates that name to a power.\n",
    "\n",
    "```\n",
    "POWER = {\n",
    "    'Fireball': 50, \n",
    "    'Lightning bolt': 40, \n",
    "    'Magic arrow': 10, \n",
    "    'Black Tentacles': 25, \n",
    "    'Contagion': 45\n",
    "}\n",
    "\n",
    "gandalf = ['Fireball', 'Lightning bolt', 'Lightning bolt', 'Magic arrow', 'Fireball', \n",
    "           'Magic arrow', 'Lightning bolt', 'Fireball', 'Fireball', 'Fireball']\n",
    "saruman = ['Contagion', 'Contagion', 'Black Tentacles', 'Fireball', 'Black Tentacles', \n",
    "           'Lightning bolt', 'Magic arrow', 'Contagion', 'Magic arrow', 'Magic arrow']\n",
    "```\n",
    "\n",
    "#### 1. Create variables `POWER`, `gandalf` and `saruman` as seen above. Create a variable called `spells` to store the number of spells that the sorcerers cast. "
   ]
  },
  {
   "cell_type": "code",
   "execution_count": 5,
   "metadata": {},
   "outputs": [],
   "source": [
    "POWER = {\n",
    "    'Fireball': 50,\n",
    "    'Lightning bolt': 40,\n",
    "    'Magic arrow': 10,\n",
    "    'Black Tentacles': 25,\n",
    "    'Contagion': 45\n",
    "}\n",
    "\n",
    "gandalf = ['Fireball', 'Lightning bolt', 'Lightning bolt', 'Magic arrow', 'Fireball',\n",
    "           'Magic arrow', 'Lightning bolt', 'Fireball', 'Fireball', 'Fireball']\n",
    "\n",
    "saruman = ['Contagion', 'Contagion', 'Black Tentacles', 'Fireball', 'Black Tentacles',\n",
    "           'Lightning bolt', 'Magic arrow', 'Contagion', 'Magic arrow', 'Magic arrow']\n",
    "\n",
    "spells = 0"
   ]
  },
  {
   "cell_type": "markdown",
   "metadata": {},
   "source": [
    "#### 2. Create two variables called `gandalf_wins` and `saruman_wins`. Set both of them to 0. "
   ]
  },
  {
   "cell_type": "code",
   "execution_count": 6,
   "metadata": {},
   "outputs": [],
   "source": [
    "gandalf_wins = 0\n",
    "saruman_wins = 0"
   ]
  },
  {
   "cell_type": "markdown",
   "metadata": {},
   "source": [
    "#### 3. Create two variables called `gandalf_power` and `saruman_power` to store the list of spell powers of each sorcerer."
   ]
  },
  {
   "cell_type": "code",
   "execution_count": 7,
   "metadata": {},
   "outputs": [],
   "source": [
    "gandalf_power = []\n",
    "saruman_power = []"
   ]
  },
  {
   "cell_type": "markdown",
   "metadata": {},
   "source": [
    "#### 4. The battle starts! Using the variables you've created above, code the execution of spell clashes. Remember that a sorcerer wins if he succeeds in winning 3 spell clashes in a row. \n",
    "If a clash ends up in a tie, the counter of wins in a row is not restarted to 0. Remember to print who is the winner of the battle. "
   ]
  },
  {
   "cell_type": "code",
   "execution_count": 13,
   "metadata": {},
   "outputs": [
    {
     "name": "stdout",
     "output_type": "stream",
     "text": [
      "> Round start! Gandalf's Fireball vs. Saruman's Contagion\n",
      "Gandalf wins the round! 1 round(s) in a row.\n",
      "Noone won 3 rounds in a row yet.\n",
      "> Round start! Gandalf's Lightning bolt vs. Saruman's Contagion\n",
      "Saruman wins the round! 1 round(s) in a row.\n",
      "Noone won 3 rounds in a row yet.\n",
      "> Round start! Gandalf's Lightning bolt vs. Saruman's Black Tentacles\n",
      "Gandalf wins the round! 1 round(s) in a row.\n",
      "Noone won 3 rounds in a row yet.\n",
      "> Round start! Gandalf's Magic arrow vs. Saruman's Fireball\n",
      "Saruman wins the round! 1 round(s) in a row.\n",
      "Noone won 3 rounds in a row yet.\n",
      "> Round start! Gandalf's Fireball vs. Saruman's Black Tentacles\n",
      "Gandalf wins the round! 1 round(s) in a row.\n",
      "Noone won 3 rounds in a row yet.\n",
      "> Round start! Gandalf's Magic arrow vs. Saruman's Lightning bolt\n",
      "Saruman wins the round! 1 round(s) in a row.\n",
      "Noone won 3 rounds in a row yet.\n",
      "> Round start! Gandalf's Lightning bolt vs. Saruman's Magic arrow\n",
      "Gandalf wins the round! 1 round(s) in a row.\n",
      "Noone won 3 rounds in a row yet.\n",
      "> Round start! Gandalf's Fireball vs. Saruman's Contagion\n",
      "Gandalf wins the round! 2 round(s) in a row.\n",
      "Noone won 3 rounds in a row yet.\n",
      "> Round start! Gandalf's Fireball vs. Saruman's Magic arrow\n",
      "Gandalf wins the round! 3 round(s) in a row.\n",
      "GANDALF WINS THE BATTLE!\n"
     ]
    }
   ],
   "source": [
    "last_winner = None\n",
    "wins = {}\n",
    "\n",
    "for gandalf_spell, saruman_spell in zip(gandalf, saruman):\n",
    "    print(f\"> Round start! Gandalf's {gandalf_spell} vs. Saruman's {saruman_spell}\")\n",
    "    # A tie does not reset the consecutive wins counter\n",
    "    if POWER[gandalf_spell] == POWER[saruman_spell]:\n",
    "        print(\"It's a tie!\")\n",
    "        continue\n",
    "    if POWER[gandalf_spell] > POWER[saruman_spell]:\n",
    "        winner = 'Gandalf'\n",
    "    if POWER[gandalf_spell] < POWER[saruman_spell]:\n",
    "        winner = 'Saruman'\n",
    "    if last_winner != winner:\n",
    "        wins[winner] = 1\n",
    "    else:\n",
    "        wins[winner] += 1\n",
    "    last_winner = winner\n",
    "    print(f\"{winner} wins the round! {wins[winner]} round(s) in a row.\")\n",
    "    if wins[winner] == 3:\n",
    "        print(f\"{winner.upper()} WINS THE BATTLE!\")\n",
    "        break\n",
    "    print(\"Noone won 3 rounds in a row yet.\")"
   ]
  },
  {
   "cell_type": "markdown",
   "metadata": {},
   "source": [
    "#### 5. Find the average spell power of Gandalf and Saruman. "
   ]
  },
  {
   "cell_type": "code",
   "execution_count": 22,
   "metadata": {},
   "outputs": [
    {
     "ename": "NameError",
     "evalue": "name 'sum_gandalf' is not defined",
     "output_type": "error",
     "traceback": [
      "\u001b[1;31m---------------------------------------------------------------------------\u001b[0m",
      "\u001b[1;31mNameError\u001b[0m                                 Traceback (most recent call last)",
      "\u001b[1;32m<ipython-input-22-6d6dbcdfbe38>\u001b[0m in \u001b[0;36m<module>\u001b[1;34m\u001b[0m\n\u001b[0;32m      5\u001b[0m \u001b[1;33m\u001b[0m\u001b[0m\n\u001b[0;32m      6\u001b[0m \u001b[1;32mfor\u001b[0m \u001b[0mi\u001b[0m \u001b[1;32min\u001b[0m \u001b[0mzip\u001b[0m\u001b[1;33m(\u001b[0m\u001b[0mgandalf\u001b[0m\u001b[1;33m,\u001b[0m\u001b[0msaruman\u001b[0m\u001b[1;33m)\u001b[0m\u001b[1;33m:\u001b[0m\u001b[1;33m\u001b[0m\u001b[1;33m\u001b[0m\u001b[0m\n\u001b[1;32m----> 7\u001b[1;33m     \u001b[0msum_gandalf\u001b[0m \u001b[1;33m+=\u001b[0m \u001b[0mPOWER\u001b[0m\u001b[1;33m[\u001b[0m\u001b[0mganfalf_spell\u001b[0m\u001b[1;33m]\u001b[0m\u001b[1;33m\u001b[0m\u001b[1;33m\u001b[0m\u001b[0m\n\u001b[0m\u001b[0;32m      8\u001b[0m     \u001b[0msum_saruman\u001b[0m \u001b[1;33m+=\u001b[0m \u001b[0mPOWER\u001b[0m\u001b[1;33m[\u001b[0m\u001b[0msaruman_spell\u001b[0m\u001b[1;33m]\u001b[0m\u001b[1;33m\u001b[0m\u001b[1;33m\u001b[0m\u001b[0m\n\u001b[0;32m      9\u001b[0m     \u001b[0mspell_powers_gandalf\u001b[0m\u001b[1;33m.\u001b[0m\u001b[0mappend\u001b[0m\u001b[1;33m(\u001b[0m\u001b[0mPOWER\u001b[0m\u001b[1;33m[\u001b[0m\u001b[0mganfalf_spell\u001b[0m\u001b[1;33m]\u001b[0m\u001b[1;33m)\u001b[0m\u001b[1;33m\u001b[0m\u001b[1;33m\u001b[0m\u001b[0m\n",
      "\u001b[1;31mNameError\u001b[0m: name 'sum_gandalf' is not defined"
     ]
    }
   ],
   "source": [
    "from numpy import std, average\n",
    "\n",
    "spell_powers_gandalf = []\n",
    "spell_powers_saruman = []\n",
    "\n",
    "for i in zip(gandalf,saruman):\n",
    "    sum_gandalf += POWER[ganfalf_spell]\n",
    "    sum_saruman += POWER[saruman_spell]\n",
    "    spell_powers_gandalf.append(POWER[ganfalf_spell])\n",
    "    spell_powers_saruman.append(POWER[saruman_spell])\n"
   ]
  },
  {
   "cell_type": "markdown",
   "metadata": {},
   "source": [
    "#### 6. Find the standard deviation of the spell power of Gandalf and Saruman. "
   ]
  },
  {
   "cell_type": "code",
   "execution_count": null,
   "metadata": {},
   "outputs": [],
   "source": []
  }
 ],
 "metadata": {
  "kernelspec": {
   "display_name": "Python 3",
   "language": "python",
   "name": "python3"
  },
  "language_info": {
   "codemirror_mode": {
    "name": "ipython",
    "version": 3
   },
   "file_extension": ".py",
   "mimetype": "text/x-python",
   "name": "python",
   "nbconvert_exporter": "python",
   "pygments_lexer": "ipython3",
   "version": "3.7.6"
  }
 },
 "nbformat": 4,
 "nbformat_minor": 2
}
