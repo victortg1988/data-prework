{
 "cells": [
  {
   "cell_type": "markdown",
   "metadata": {},
   "source": [
    "<img src=\"https://bit.ly/2VnXWr2\" width=\"100\" align=\"left\"/>"
   ]
  },
  {
   "cell_type": "markdown",
   "metadata": {},
   "source": [
    "# Robin Hood\n",
    "Robin Hood has entered a competition to win the archery contest in Sherwood. With his bow and arrows, he needs to shoot on a target and try to hit as close as possible to the center.\n",
    "\n",
    "![](images/arrows.jpg)\n",
    "\n",
    "## Context\n",
    "In this challenge, the landing position of arrows shot by archers in the competition will be represented using 2-dimensional coordinates. \n",
    "\n",
    "In the 2-dimensional space, a point can be defined by a pair of values that correspond to the horizontal coordinate (x) and the vertical coordinate (y). For example, in our case, an arrow that hits the center of the archery target will land in position (0, 0) on the coordinate axes. \n",
    "\n",
    "The space can be divided into 4 zones (quadrants): Q1, Q2, Q3, Q4. If a point is in Q1, both its x coordinate and y coordinate are positive. Any point with a null x or y coordinate is considered to not belong to any quadrant. \n",
    "\n",
    "If you want to know more about the cartesian coordinate system, you can check this [link](https://en.wikipedia.org/wiki/Cartesian_coordinate_system). \n",
    "\n",
    "## Tools\n",
    "You don't necessarily need to use all the tools. Maybe you opt to use some of them or completely different ones, they are given to help you shape the exercise. Programming exercises can be solved in many different ways.\n",
    "* Data structures: **lists, sets, tuples**\n",
    "* Conditional statements: **if-elif-else**\n",
    "* Loop: **while/for**\n",
    "* Minimum (optional sorting)\n",
    "\n",
    "## Tasks\n",
    "Robin Hood has hit the following points:"
   ]
  },
  {
   "cell_type": "code",
   "execution_count": 10,
   "metadata": {},
   "outputs": [],
   "source": [
    "points = [(4, 5), (-0, 2), (4, 7), (1, -3), (3, -2), (4, 5), (3, 2), (5, 7), (-5, 7), (2, 2), (-4, 5), (0, -2),\n",
    "          (-4, 7), (-1, 3), (-3, 2), (-4, -5), (-3, 2), (5, 7), (5, 7), (2, 2), (9, 9), (-8, -9)]"
   ]
  },
  {
   "cell_type": "markdown",
   "metadata": {},
   "source": [
    "#### 1. Robin Hood is famous for hitting an arrow with another arrow. Find the coordinates of the points where an arrow hits another arrow."
   ]
  },
  {
   "cell_type": "code",
   "execution_count": 11,
   "metadata": {},
   "outputs": [
    {
     "name": "stdout",
     "output_type": "stream",
     "text": [
      "Robin hit his own arrows 5 times.\n"
     ]
    }
   ],
   "source": [
    "def check_for_double_hits(hits):\n",
    "    total_hits = len(hits)\n",
    "    unique_hits = len(set(hits))\n",
    "    double_hits = total_hits - unique_hits\n",
    "    return double_hits\n",
    "\n",
    "print(\"Robin hit his own arrows\", check_for_double_hits(points), \"times.\")"
   ]
  },
  {
   "cell_type": "markdown",
   "metadata": {},
   "source": [
    "#### 2. Calculate how many arrows have fallen in each quadrant. \n",
    "**Note**: the arrows that fall in the axis (x=0 or y=0) don't belong to any quadrant."
   ]
  },
  {
   "cell_type": "code",
   "execution_count": 28,
   "metadata": {},
   "outputs": [],
   "source": [
    "def count_hits_per_quadrant(points):\n",
    "    q1_hits = 0\n",
    "    q2_hits = 0\n",
    "    q3_hits = 0\n",
    "    q4_hits = 0\n",
    "    for point in points:\n",
    "        if point[0] >= 0 and point[1] >= 0:\n",
    "             q1_hits += 1\n",
    "        elif point[0] >= 0 and point[1] <= 0:\n",
    "             q2_hits += 1\n",
    "        elif point[0] <= 0 and point[1] <= 0:\n",
    "             q3_hits += 1\n",
    "        else:\n",
    "            q4_hits += 1\n",
    "    print(\"There are\", q1_hits, \"hits at quadrant one,\", q2_hits, \"at quadrant two,\", q3_hits, \"at quadrant three and\", q4_hits, \"at quadrant four.\"), count_hits_per_quadrant(points)"
   ]
  },
  {
   "cell_type": "markdown",
   "metadata": {},
   "source": [
    "#### 3. Find the point closest to the center. Calculate its distance to the center. \n",
    "Take into account that there might be more than one point at the minimum distance to the center.\n",
    "\n",
    "**Hint**: Use the Euclidean distance. You can find more information about it [here](https://en.wikipedia.org/wiki/Euclidean_distance).  \n",
    "**Hint**: Defining a function that calculates the distance to the center can help."
   ]
  },
  {
   "cell_type": "code",
   "execution_count": 21,
   "metadata": {},
   "outputs": [
    {
     "ename": "SyntaxError",
     "evalue": "invalid syntax (<ipython-input-21-b769110874a1>, line 31)",
     "output_type": "error",
     "traceback": [
      "\u001b[1;36m  File \u001b[1;32m\"<ipython-input-21-b769110874a1>\"\u001b[1;36m, line \u001b[1;32m31\u001b[0m\n\u001b[1;33m    for hit in closest_hits:\u001b[0m\n\u001b[1;37m      ^\u001b[0m\n\u001b[1;31mSyntaxError\u001b[0m\u001b[1;31m:\u001b[0m invalid syntax\n"
     ]
    }
   ],
   "source": [
    "from numpy import amax, argmax\n",
    "\n",
    "def calculate_distance_from_center(point):\n",
    "    x_distance = abs(point[0])\n",
    "    y_distance = abs(point[1])\n",
    "    total_distance = x_distance + y_distance\n",
    "    return total_distance\n",
    "    \n",
    "distances = []\n",
    "for point in points:\n",
    "    distances.append(get_distance_from_center(point))\n",
    "    \n",
    "def find_min_distance(distances):\n",
    "    current_min = amax(distances)\n",
    "    current_min_indexes = [argmax(distances)]\n",
    "    for i in range(len(distances)):\n",
    "        distance = distances[i]\n",
    "        if distance < current_min:\n",
    "            current_min = distance\n",
    "            current_min_indexes = [i]\n",
    "        elif distance == current_min:\n",
    "            current_min_indexes.append(i)\n",
    "    return current_min_indexes\n",
    "    \n",
    "def find_closest_hits():\n",
    "    closest_hits_indexes = find_min_distance(distances)\n",
    "    closest_hits = []\n",
    "    for hit in closest_hits_indexes:\n",
    "        closest_hits.append(points[hit])\n",
    "    print(\"The closest hits to zero were at:\", \n",
    "        for hit in closest_hits:\n",
    "          print(hit)\n",
    "        find_closest_hits())"
   ]
  },
  {
   "cell_type": "markdown",
   "metadata": {},
   "source": [
    "#### 4. If the archery target has a radius of 9, calculate the number of arrows that won't hit the target. \n",
    "**Hint**: Use the function created in step 3. "
   ]
  },
  {
   "cell_type": "code",
   "execution_count": 22,
   "metadata": {},
   "outputs": [
    {
     "name": "stdout",
     "output_type": "stream",
     "text": [
      "There are 0 arrows on the ground or in the woods.\n"
     ]
    }
   ],
   "source": [
    "def count_misses(points):\n",
    "    number_of_misses = 0\n",
    "    for point in points:\n",
    "        if abs(point[0]) > 9 or abs(point[1] > 9):\n",
    "            number_of_misses += 1\n",
    "        return number_of_misses\n",
    "print(\"There are\", count_misses(points), \"arrows on the ground or in the woods.\")"
   ]
  }
 ],
 "metadata": {
  "kernelspec": {
   "display_name": "Python 3",
   "language": "python",
   "name": "python3"
  },
  "language_info": {
   "codemirror_mode": {
    "name": "ipython",
    "version": 3
   },
   "file_extension": ".py",
   "mimetype": "text/x-python",
   "name": "python",
   "nbconvert_exporter": "python",
   "pygments_lexer": "ipython3",
   "version": "3.7.6"
  }
 },
 "nbformat": 4,
 "nbformat_minor": 2
}
