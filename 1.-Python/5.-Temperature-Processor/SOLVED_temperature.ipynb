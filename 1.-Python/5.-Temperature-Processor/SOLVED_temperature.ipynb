{
 "cells": [
  {
   "cell_type": "markdown",
   "metadata": {},
   "source": [
    "<img src=\"https://bit.ly/2VnXWr2\" width=\"100\" align=\"left\">"
   ]
  },
  {
   "cell_type": "markdown",
   "metadata": {},
   "source": [
    "# Temperature Sensor\n",
    "\n",
    "There is a temperature sensor in the processor of your company's server. The company wants to analyze the data provided by the sensor to decide if they should change the cooling system for a better one. As changing the cooling system is expensive and you are an excellent data analyst, you can't make a decision without basis.\n",
    "\n",
    "## Tools\n",
    "You don't necessarily need to use all the tools. Maybe you opt to use some of them or completely different ones, they are given to help you shape the exercise. Programming exercises can be solved in many different ways.\n",
    "1. Data structures: **lists**\n",
    "2. Loops: **list comprehension**\n",
    "3. Functions: **min, max, print, len**\n",
    "4. Conditional statements: **if-elif-else**\n",
    "\n",
    "## Tasks\n",
    "The temperatures measured throughout the 24 hours of a day are:"
   ]
  },
  {
   "cell_type": "code",
   "execution_count": 11,
   "metadata": {},
   "outputs": [],
   "source": [
    "temperatures_C = [33, 66, 65, 0, 59, 60, 62, 64, 70, 76, 80, 81, 80, 83, 90, 79, 61, 53, 50, 49, 53, 48, 45, 39]"
   ]
  },
  {
   "cell_type": "markdown",
   "metadata": {},
   "source": [
    "The first element of the list is the temperature at 12am, the second element is the temperature at 1am, and so on. \n",
    "\n",
    "The company has decided that if one of the following events occurs, then the cooling system needs to be replaced for a new one to avoid damaging the processor.\n",
    "* More than 4 temperatures are greater than or equal to 70ºC.\n",
    "* Any temperature is above 80ºC.\n",
    "* The average temperature exceeds 65ºC.\n",
    "\n",
    "Follow the steps so that you can make the decision.\n",
    "\n",
    "#### 1. Find the minimum temperature of the day and store it in a variable."
   ]
  },
  {
   "cell_type": "code",
   "execution_count": 12,
   "metadata": {},
   "outputs": [
    {
     "name": "stdout",
     "output_type": "stream",
     "text": [
      "The minimum temperature within the 24 hours has been: 0\n"
     ]
    }
   ],
   "source": [
    "from numpy import amin\n",
    "\n",
    "print(\"The minimum temperature within the 24 hours has been:\", amin(temperatures_C))"
   ]
  },
  {
   "cell_type": "markdown",
   "metadata": {},
   "source": [
    "#### 2. Find the maximum temperature of the day and store it in a variable."
   ]
  },
  {
   "cell_type": "code",
   "execution_count": 13,
   "metadata": {},
   "outputs": [
    {
     "name": "stdout",
     "output_type": "stream",
     "text": [
      "The maximum temperature within the 24 hours has been 90\n"
     ]
    }
   ],
   "source": [
    "from numpy import amax\n",
    "\n",
    "print(\"The maximum temperature within the 24 hours has been\", amax(temperatures_C))"
   ]
  },
  {
   "cell_type": "markdown",
   "metadata": {},
   "source": [
    "#### 3. Create a list with the temperatures that are greater than or equal to 70ºC. Store it in a variable."
   ]
  },
  {
   "cell_type": "code",
   "execution_count": 17,
   "metadata": {},
   "outputs": [
    {
     "name": "stdout",
     "output_type": "stream",
     "text": [
      "Temperatures above 70°C: []\n",
      "Temperatures above 70°C: []\n",
      "Temperatures above 70°C: []\n",
      "Temperatures above 70°C: []\n",
      "Temperatures above 70°C: []\n",
      "Temperatures above 70°C: []\n",
      "Temperatures above 70°C: []\n",
      "Temperatures above 70°C: []\n",
      "Temperatures above 70°C: []\n",
      "Temperatures above 70°C: [76]\n",
      "Temperatures above 70°C: [76, 80]\n",
      "Temperatures above 70°C: [76, 80, 81]\n",
      "Temperatures above 70°C: [76, 80, 81, 80]\n",
      "Temperatures above 70°C: [76, 80, 81, 80, 83]\n",
      "Temperatures above 70°C: [76, 80, 81, 80, 83, 90]\n",
      "Temperatures above 70°C: [76, 80, 81, 80, 83, 90, 79]\n",
      "Temperatures above 70°C: [76, 80, 81, 80, 83, 90, 79]\n",
      "Temperatures above 70°C: [76, 80, 81, 80, 83, 90, 79]\n",
      "Temperatures above 70°C: [76, 80, 81, 80, 83, 90, 79]\n",
      "Temperatures above 70°C: [76, 80, 81, 80, 83, 90, 79]\n",
      "Temperatures above 70°C: [76, 80, 81, 80, 83, 90, 79]\n",
      "Temperatures above 70°C: [76, 80, 81, 80, 83, 90, 79]\n",
      "Temperatures above 70°C: [76, 80, 81, 80, 83, 90, 79]\n",
      "Temperatures above 70°C: [76, 80, 81, 80, 83, 90, 79]\n"
     ]
    }
   ],
   "source": [
    "temperatures_above_70 = []\n",
    "for temperature in temperatures:\n",
    "    if temperature > 70:\n",
    "        temperatures_above_70.append(temperature)\n",
    "    print(\"Temperatures above 70°C:\", temperatures_above_70)"
   ]
  },
  {
   "cell_type": "markdown",
   "metadata": {},
   "source": [
    "#### 4. Find the average temperature of the day and store it in a variable."
   ]
  },
  {
   "cell_type": "code",
   "execution_count": 19,
   "metadata": {},
   "outputs": [
    {
     "name": "stdout",
     "output_type": "stream",
     "text": [
      "The mean temperature has been: 60.25\n"
     ]
    }
   ],
   "source": [
    "from numpy import mean\n",
    "print(\"The mean temperature has been:\", mean(temperatures))"
   ]
  },
  {
   "cell_type": "markdown",
   "metadata": {},
   "source": [
    "#### 5. Imagine that there was a sensor failure at 3am and the data for that specific hour was not recorded. How would you estimate the missing value? Replace the current value of the list at 3am for an estimation. "
   ]
  },
  {
   "cell_type": "code",
   "execution_count": 22,
   "metadata": {},
   "outputs": [
    {
     "name": "stdout",
     "output_type": "stream",
     "text": [
      "Estimated value at positon 3 : 62\n",
      "The complete temperature data looks like this: [33, 66, 65, 0, 59, 60, 62, 64, 70, 76, 80, 81, 80, 83, 90, 79, 61, 53, 50, 49, 53, 48, 45, 39]\n"
     ]
    }
   ],
   "source": [
    "index = temperatures.index(0)\n",
    "before_index = index - 1\n",
    "before_value = temperatures[before_index]\n",
    "after_index = index + 1\n",
    "after_value = temperatures[after_index]\n",
    "estimated_value = int((before_value + after_value) / 2)\n",
    "print(\"Estimated value at positon\", index, \":\", estimated_value)\n",
    "\n",
    "temperatures[index] = estimated_value\n",
    "print(\"The complete temperature data looks like this:\", temperatures_C)"
   ]
  },
  {
   "cell_type": "markdown",
   "metadata": {},
   "source": [
    "#### 6. Bonus: the maintenance staff is from the United States and does not understand the international metric system. Help them by converting the temperatures from Celsius to Fahrenheit.\n",
    "To know more about temperature conversion check this [link](https://en.wikipedia.org/wiki/Conversion_of_units_of_temperature).\n",
    "\n",
    "**Formula**: \n",
    "\n",
    "$F = 1.8 * C + 32$"
   ]
  },
  {
   "cell_type": "code",
   "execution_count": 26,
   "metadata": {},
   "outputs": [
    {
     "name": "stdout",
     "output_type": "stream",
     "text": [
      "Temperatures in °Fahrenheit: [91, 151, 149, 144, 138, 140, 144, 147, 158, 169, 176, 178, 176, 181, 194, 174, 142, 127, 122, 120, 127, 118, 113, 102]\n"
     ]
    }
   ],
   "source": [
    "temperatures_fahrenheit = []\n",
    "for temperature in temperatures:\n",
    "    temperature_f = round(float(temperature) * 1.8 + 32)\n",
    "    temperatures_fahrenheit.append(temperature_f)\n",
    "print(\"Temperatures in °Fahrenheit:\", temperatures_fahrenheit)"
   ]
  },
  {
   "cell_type": "markdown",
   "metadata": {},
   "source": [
    "#### 7. Make a decision!\n",
    "Now it's time to make a decision taking into account what you have seen until now. \n",
    "\n",
    "Remember that if one of the following events occurs, then the cooling system needs to be replaced for a new one to avoid damaging the processor.\n",
    "* More than 4 temperatures are greater than or equal to 70ºC.\n",
    "* Any temperature is above 80ºC.\n",
    "* The average temperature exceeds 65ºC.\n",
    "\n",
    "#### To make your decision, check if any of the three conditions above is met. You might need to use some of the variables you created in steps 1 to 6. Print a message to show if the cooling system needs to be changed or not."
   ]
  },
  {
   "cell_type": "code",
   "execution_count": 38,
   "metadata": {},
   "outputs": [],
   "source": [
    "high_temperature_row_count = 0\n",
    "for temperature in temperatures:\n",
    "    if temperature < 70:\n",
    "        high_temperature_row_count = 0\n",
    "        continue\n",
    "    high_temperature_row_count += 1\n",
    "    if high_temperature_row_count == 4:\n",
    "        high_temperature_for_four_hours = True\n",
    "        break\n",
    "            \n",
    "for temperature in temperatures:\n",
    "    if temperature > 80:\n",
    "        temperatures_higher_than_80 = True"
   ]
  },
  {
   "cell_type": "markdown",
   "metadata": {},
   "source": [
    "## Bonus\n",
    "\n",
    "The company has decided that the decision you made is not valid. They want you to analyze the data again but this time, the conditions that need to be met in order to change the cooling system are different.\n",
    "\n",
    "This time, if one of the following events occurs, then the cooling system needs to be replaced:\n",
    "* The temperature is greater than 70ºC during more than 4 consecutive hours.\n",
    "* Any temperature is above 80ºC.\n",
    "* The average temperature exceeds 65ºC.\n",
    "\n",
    "Follow the steps so that you can make the decision.\n",
    "\n",
    "#### 1. Create a list with the hours where the temperature is greater than 70ºC. Store it in a variable."
   ]
  },
  {
   "cell_type": "code",
   "execution_count": 33,
   "metadata": {},
   "outputs": [
    {
     "name": "stdout",
     "output_type": "stream",
     "text": [
      "The temperature was above 70° in hours:\n",
      "9\n",
      "10\n",
      "11\n",
      "12\n",
      "13\n",
      "14\n",
      "15\n"
     ]
    }
   ],
   "source": [
    "high_temperature_hours = []\n",
    "for i in range(len(temperatures)):\n",
    "    temperature = temperatures[i]\n",
    "    if temperature > 70:\n",
    "        high_temperature_hours.append(i)\n",
    "print(\"The temperature was above 70° in hours:\")\n",
    "for temperature in high_temperature_hours:\n",
    "    print(temperature)"
   ]
  },
  {
   "cell_type": "markdown",
   "metadata": {},
   "source": [
    "#### 2. Check if the list you created in step 1 has more than 4 consecutive hours. "
   ]
  },
  {
   "cell_type": "code",
   "execution_count": 42,
   "metadata": {},
   "outputs": [],
   "source": [
    "high_temperature_row_count = 0\n",
    "for temperature in temperatures:\n",
    "    if temperature < 70:\n",
    "        high_temperature_row_count = 0\n",
    "        continue\n",
    "    high_temperature_row_count += 1\n",
    "    if high_temperature_row_count == 4:\n",
    "        high_temperature_for_four_hours = True\n",
    "        break\n",
    "            \n",
    "for temperature in temperatures:\n",
    "    if temperature > 80:\n",
    "        temperatures_higher_than_80 = True\n",
    "    \n",
    "from numpy import average\n",
    "if average(temperatures) > 65:\n",
    "    average_higher_than_65 = True"
   ]
  },
  {
   "cell_type": "markdown",
   "metadata": {},
   "source": [
    "#### 3. Make the decision!\n",
    "To make your decision, check if any of the three conditions is met. Print a message to show if the cooling system needs to be changed or not."
   ]
  },
  {
   "cell_type": "code",
   "execution_count": 43,
   "metadata": {},
   "outputs": [
    {
     "name": "stdout",
     "output_type": "stream",
     "text": [
      "We should definitively improve our cooling system!\n",
      "The temperature has been equal or above 70° for four hours or longer.\n",
      "The processor met the 80° mark.\n"
     ]
    }
   ],
   "source": [
    "if high_temperature_for_four_hours or temperatures_higher_than_80 or average_higher_than_65:\n",
    "    print(\"We should definitively improve our cooling system!\")\n",
    "    if high_temperature_for_four_hours:\n",
    "        print(\"The temperature has been equal or above 70° for four hours or longer.\")\n",
    "    if temperatures_higher_than_80:\n",
    "        print(\"The processor met the 80° mark.\")\n",
    "    if average_higher_than_65:\n",
    "        print(\"The average temperature has been above 65° this day.\")"
   ]
  },
  {
   "cell_type": "markdown",
   "metadata": {},
   "source": [
    "#### 4. Find the average value of the temperature lists (ºC and ºF). What is the relation between both average values?"
   ]
  },
  {
   "cell_type": "code",
   "execution_count": 49,
   "metadata": {},
   "outputs": [
    {
     "name": "stdout",
     "output_type": "stream",
     "text": [
      "Average temperature in Celsius: 60.25\n",
      "Average temperature in Fahrenheit: 145.04166666666666\n",
      "The average Fahrenheit temperature can be converted into Celsius and matches the average Celsius temperature.\n"
     ]
    }
   ],
   "source": [
    "avg_c = average(temperatures_C)\n",
    "print(\"Average temperature in Celsius:\", avg_c)\n",
    "avg_f = average(temperatures_fahrenheit)\n",
    "print(\"Average temperature in Fahrenheit:\", avg_f)\n",
    "print(\"The average Fahrenheit temperature can be converted into Celsius and matches the average Celsius temperature.\")"
   ]
  },
  {
   "cell_type": "markdown",
   "metadata": {},
   "source": [
    "#### 5. Find the standard deviation of the temperature lists (ºC and ºF). What is the relation between both standard deviations?"
   ]
  },
  {
   "cell_type": "code",
   "execution_count": 51,
   "metadata": {},
   "outputs": [
    {
     "name": "stdout",
     "output_type": "stream",
     "text": [
      "Standard deviation for temperatures Celsius: 19.285681216902866\n",
      "Standard deviation for temperatures Fahrenheit: 26.42202232776456\n",
      "The Fahrenheit temperature standard deviation can be converted into Celsius and matches the Celsius temperature standard deviation.\n"
     ]
    }
   ],
   "source": [
    "from numpy import std\n",
    "std_c = std(temperatures_C)\n",
    "print(\"Standard deviation for temperatures Celsius:\", std_c)\n",
    "std_f = std(temperatures_fahrenheit)\n",
    "print(\"Standard deviation for temperatures Fahrenheit:\", std_f)\n",
    "print(\"The Fahrenheit temperature standard deviation can be converted into Celsius and matches the Celsius temperature standard deviation.\")\n"
   ]
  }
 ],
 "metadata": {
  "kernelspec": {
   "display_name": "Python 3",
   "language": "python",
   "name": "python3"
  },
  "language_info": {
   "codemirror_mode": {
    "name": "ipython",
    "version": 3
   },
   "file_extension": ".py",
   "mimetype": "text/x-python",
   "name": "python",
   "nbconvert_exporter": "python",
   "pygments_lexer": "ipython3",
   "version": "3.7.6"
  }
 },
 "nbformat": 4,
 "nbformat_minor": 2
}
